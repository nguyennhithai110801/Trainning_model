{
  "nbformat": 4,
  "nbformat_minor": 0,
  "metadata": {
    "colab": {
      "name": "PalmReading.ipynb",
      "provenance": []
    },
    "kernelspec": {
      "name": "python3",
      "display_name": "Python 3"
    },
    "language_info": {
      "name": "python"
    },
    "accelerator": "GPU"
  },
  "cells": [
    {
      "cell_type": "code",
      "execution_count": 6,
      "metadata": {
        "id": "cYBaqG8r_8QD"
      },
      "outputs": [],
      "source": [
        "#importing important libraries \n",
        "import numpy as np\n",
        "import matplotlib.pyplot as plt\n",
        "from tensorflow.keras.preprocessing.image import ImageDataGenerator\n",
        "from tensorflow.keras.preprocessing import image\n",
        "from tensorflow.keras.optimizers import SGD, RMSprop,Adam\n",
        "from tensorflow.keras.utils import to_categorical, load_img, img_to_array\n",
        "from tensorflow.keras.models import load_model\n",
        "from keras.utils import np_utils\n",
        "from keras.models import Sequential\n",
        "from keras.layers import Dense,Flatten, Dropout, Conv2D, MaxPooling2D\n",
        "from tensorflow.keras.callbacks import EarlyStopping, ModelCheckpoint, ReduceLROnPlateau"
      ]
    },
    {
      "cell_type": "code",
      "source": [
        "from google.colab import drive\n",
        "drive.mount('/content/drive')"
      ],
      "metadata": {
        "colab": {
          "base_uri": "https://localhost:8080/"
        },
        "id": "mL0dKDpmBJn1",
        "outputId": "426bbc9c-bc01-4ff3-f482-33ec6fac13fc"
      },
      "execution_count": 7,
      "outputs": [
        {
          "output_type": "stream",
          "name": "stdout",
          "text": [
            "Drive already mounted at /content/drive; to attempt to forcibly remount, call drive.mount(\"/content/drive\", force_remount=True).\n"
          ]
        }
      ]
    },
    {
      "cell_type": "code",
      "source": [
        "train = ImageDataGenerator(rescale = 1./255, shear_range = 0.2, zoom_range = 0.2, horizontal_flip = True)\n",
        "train_data = '/content/drive/MyDrive/Palm_Reading/Train_Data'\n",
        "validation = ImageDataGenerator(rescale=1./255)\n",
        "valid_data = '/content/drive/MyDrive/Palm_Reading/Valid_Data'"
      ],
      "metadata": {
        "id": "uN06fZbLBL16"
      },
      "execution_count": 12,
      "outputs": []
    },
    {
      "cell_type": "code",
      "source": [
        "train_dataset = train.flow_from_directory(train_data, target_size = (150,150), batch_size = 12, class_mode = 'categorical')\n",
        "validation_dataset = validation.flow_from_directory(valid_data, target_size = (150,150), batch_size = 12, class_mode = 'categorical')"
      ],
      "metadata": {
        "colab": {
          "base_uri": "https://localhost:8080/"
        },
        "id": "JAcS0YtzBdAG",
        "outputId": "aae1d6ab-d8bb-4d83-cc1e-37aac0a22ada"
      },
      "execution_count": 13,
      "outputs": [
        {
          "output_type": "stream",
          "name": "stdout",
          "text": [
            "Found 34 images belonging to 4 classes.\n",
            "Found 34 images belonging to 4 classes.\n"
          ]
        }
      ]
    },
    {
      "cell_type": "code",
      "source": [
        "train_dataset.class_indices"
      ],
      "metadata": {
        "colab": {
          "base_uri": "https://localhost:8080/"
        },
        "id": "o0Yqv-X1Bksl",
        "outputId": "b720127f-32cf-4c32-9425-f27305e86a39"
      },
      "execution_count": 14,
      "outputs": [
        {
          "output_type": "execute_result",
          "data": {
            "text/plain": [
              "{'dinhmenh': 0, 'sinhdao': 1, 'tamdao': 2, 'tridao': 3}"
            ]
          },
          "metadata": {},
          "execution_count": 14
        }
      ]
    },
    {
      "cell_type": "code",
      "source": [
        "model = Sequential()\n",
        "model.add(Conv2D(32,(3,3),activation = 'relu',kernel_initializer='he_uniform',padding='same',input_shape=(150,150,3)))\n",
        "model.add(Conv2D(32,(3,3),activation = 'relu',kernel_initializer='he_uniform',padding='same'))\n",
        "model.add(MaxPooling2D((2,2)))\n",
        "model.add(Conv2D(32,(3,3),activation = 'relu',kernel_initializer='he_uniform',padding='same'))\n",
        "model.add(Conv2D(32,(3,3),activation = 'relu',kernel_initializer='he_uniform',padding='same'))\n",
        "model.add(MaxPooling2D((2,2)))\n",
        "model.add(Conv2D(64,(3,3),activation = 'relu',kernel_initializer='he_uniform',padding='same'))\n",
        "model.add(Conv2D(64,(3,3),activation = 'relu',kernel_initializer='he_uniform',padding='same'))\n",
        "model.add(MaxPooling2D((2,2)))\n",
        "model.add(Conv2D(128,(3,3),activation = 'relu',kernel_initializer='he_uniform',padding='same'))\n",
        "model.add(Conv2D(128,(3,3),activation = 'relu',kernel_initializer='he_uniform',padding='same'))\n",
        "model.add(MaxPooling2D((2,2)))\n",
        "model.add(Flatten())\n",
        "model.add(Dense(256,activation='relu',kernel_initializer='he_uniform',))\n",
        "model.add(Dense(4,activation='softmax'))"
      ],
      "metadata": {
        "id": "YCpfYOcpEko8"
      },
      "execution_count": 17,
      "outputs": []
    },
    {
      "cell_type": "code",
      "source": [
        "model.summary()"
      ],
      "metadata": {
        "colab": {
          "base_uri": "https://localhost:8080/"
        },
        "id": "O_T2ktAOEmgE",
        "outputId": "36565e94-3650-4f63-c6fa-42d5f7d15faf"
      },
      "execution_count": 18,
      "outputs": [
        {
          "output_type": "stream",
          "name": "stdout",
          "text": [
            "Model: \"sequential_1\"\n",
            "_________________________________________________________________\n",
            " Layer (type)                Output Shape              Param #   \n",
            "=================================================================\n",
            " conv2d_8 (Conv2D)           (None, 150, 150, 32)      896       \n",
            "                                                                 \n",
            " conv2d_9 (Conv2D)           (None, 150, 150, 32)      9248      \n",
            "                                                                 \n",
            " max_pooling2d_4 (MaxPooling  (None, 75, 75, 32)       0         \n",
            " 2D)                                                             \n",
            "                                                                 \n",
            " conv2d_10 (Conv2D)          (None, 75, 75, 32)        9248      \n",
            "                                                                 \n",
            " conv2d_11 (Conv2D)          (None, 75, 75, 32)        9248      \n",
            "                                                                 \n",
            " max_pooling2d_5 (MaxPooling  (None, 37, 37, 32)       0         \n",
            " 2D)                                                             \n",
            "                                                                 \n",
            " conv2d_12 (Conv2D)          (None, 37, 37, 64)        18496     \n",
            "                                                                 \n",
            " conv2d_13 (Conv2D)          (None, 37, 37, 64)        36928     \n",
            "                                                                 \n",
            " max_pooling2d_6 (MaxPooling  (None, 18, 18, 64)       0         \n",
            " 2D)                                                             \n",
            "                                                                 \n",
            " conv2d_14 (Conv2D)          (None, 18, 18, 128)       73856     \n",
            "                                                                 \n",
            " conv2d_15 (Conv2D)          (None, 18, 18, 128)       147584    \n",
            "                                                                 \n",
            " max_pooling2d_7 (MaxPooling  (None, 9, 9, 128)        0         \n",
            " 2D)                                                             \n",
            "                                                                 \n",
            " flatten_1 (Flatten)         (None, 10368)             0         \n",
            "                                                                 \n",
            " dense_2 (Dense)             (None, 256)               2654464   \n",
            "                                                                 \n",
            " dense_3 (Dense)             (None, 4)                 1028      \n",
            "                                                                 \n",
            "=================================================================\n",
            "Total params: 2,960,996\n",
            "Trainable params: 2,960,996\n",
            "Non-trainable params: 0\n",
            "_________________________________________________________________\n"
          ]
        }
      ]
    },
    {
      "cell_type": "code",
      "source": [
        "opt = SGD(lr=0.001, momentum=0.9)\n",
        "model.compile(optimizer=opt, loss='categorical_crossentropy', metrics = ['accuracy'])"
      ],
      "metadata": {
        "colab": {
          "base_uri": "https://localhost:8080/"
        },
        "id": "0DtbJ8GqEorQ",
        "outputId": "a92d7d21-fe35-4a9d-98c3-0fd7411b13d8"
      },
      "execution_count": 19,
      "outputs": [
        {
          "output_type": "stream",
          "name": "stderr",
          "text": [
            "/usr/local/lib/python3.7/dist-packages/keras/optimizer_v2/gradient_descent.py:102: UserWarning: The `lr` argument is deprecated, use `learning_rate` instead.\n",
            "  super(SGD, self).__init__(name, **kwargs)\n"
          ]
        }
      ]
    },
    {
      "cell_type": "code",
      "source": [
        "history = model.fit(train_dataset,batch_size=32,epochs=50,verbose=1,validation_data=validation_dataset)"
      ],
      "metadata": {
        "colab": {
          "base_uri": "https://localhost:8080/"
        },
        "id": "RUeopKFREtPj",
        "outputId": "01ef3d46-0543-4f5b-c77e-1f33e59fcbbc"
      },
      "execution_count": 20,
      "outputs": [
        {
          "output_type": "stream",
          "name": "stdout",
          "text": [
            "Epoch 1/50\n",
            "3/3 [==============================] - 21s 5s/step - loss: 1.7611 - accuracy: 0.2059 - val_loss: 1.9550 - val_accuracy: 0.2647\n",
            "Epoch 2/50\n",
            "3/3 [==============================] - 1s 254ms/step - loss: 1.8212 - accuracy: 0.1471 - val_loss: 1.3902 - val_accuracy: 0.2647\n",
            "Epoch 3/50\n",
            "3/3 [==============================] - 1s 252ms/step - loss: 1.4406 - accuracy: 0.2941 - val_loss: 1.3877 - val_accuracy: 0.3235\n",
            "Epoch 4/50\n",
            "3/3 [==============================] - 1s 268ms/step - loss: 1.3790 - accuracy: 0.3235 - val_loss: 1.3548 - val_accuracy: 0.4118\n",
            "Epoch 5/50\n",
            "3/3 [==============================] - 1s 250ms/step - loss: 1.4427 - accuracy: 0.2059 - val_loss: 1.3622 - val_accuracy: 0.2647\n",
            "Epoch 6/50\n",
            "3/3 [==============================] - 1s 247ms/step - loss: 1.4373 - accuracy: 0.2353 - val_loss: 1.3685 - val_accuracy: 0.3235\n",
            "Epoch 7/50\n",
            "3/3 [==============================] - 1s 244ms/step - loss: 1.4812 - accuracy: 0.3235 - val_loss: 1.3640 - val_accuracy: 0.3235\n",
            "Epoch 8/50\n",
            "3/3 [==============================] - 1s 247ms/step - loss: 1.3485 - accuracy: 0.2941 - val_loss: 1.3661 - val_accuracy: 0.2647\n",
            "Epoch 9/50\n",
            "3/3 [==============================] - 1s 257ms/step - loss: 1.4149 - accuracy: 0.2647 - val_loss: 1.3592 - val_accuracy: 0.3235\n",
            "Epoch 10/50\n",
            "3/3 [==============================] - 1s 265ms/step - loss: 1.3605 - accuracy: 0.2941 - val_loss: 1.3616 - val_accuracy: 0.3235\n",
            "Epoch 11/50\n",
            "3/3 [==============================] - 1s 249ms/step - loss: 1.3880 - accuracy: 0.3235 - val_loss: 1.3503 - val_accuracy: 0.3235\n",
            "Epoch 12/50\n",
            "3/3 [==============================] - 1s 248ms/step - loss: 1.3678 - accuracy: 0.3235 - val_loss: 1.3408 - val_accuracy: 0.3235\n",
            "Epoch 13/50\n",
            "3/3 [==============================] - 1s 267ms/step - loss: 1.3550 - accuracy: 0.3235 - val_loss: 1.3378 - val_accuracy: 0.3235\n",
            "Epoch 14/50\n",
            "3/3 [==============================] - 1s 257ms/step - loss: 1.3997 - accuracy: 0.3235 - val_loss: 1.3493 - val_accuracy: 0.3235\n",
            "Epoch 15/50\n",
            "3/3 [==============================] - 1s 264ms/step - loss: 1.3627 - accuracy: 0.3235 - val_loss: 1.3456 - val_accuracy: 0.3235\n",
            "Epoch 16/50\n",
            "3/3 [==============================] - 1s 260ms/step - loss: 1.3621 - accuracy: 0.3235 - val_loss: 1.3404 - val_accuracy: 0.3235\n",
            "Epoch 17/50\n",
            "3/3 [==============================] - 1s 245ms/step - loss: 1.3507 - accuracy: 0.3235 - val_loss: 1.3390 - val_accuracy: 0.3235\n",
            "Epoch 18/50\n",
            "3/3 [==============================] - 1s 250ms/step - loss: 1.3563 - accuracy: 0.3235 - val_loss: 1.3390 - val_accuracy: 0.3235\n",
            "Epoch 19/50\n",
            "3/3 [==============================] - 1s 263ms/step - loss: 1.3517 - accuracy: 0.2059 - val_loss: 1.3389 - val_accuracy: 0.5588\n",
            "Epoch 20/50\n",
            "3/3 [==============================] - 1s 255ms/step - loss: 1.3517 - accuracy: 0.2647 - val_loss: 1.3324 - val_accuracy: 0.3235\n",
            "Epoch 21/50\n",
            "3/3 [==============================] - 1s 248ms/step - loss: 1.3624 - accuracy: 0.3235 - val_loss: 1.3345 - val_accuracy: 0.3235\n",
            "Epoch 22/50\n",
            "3/3 [==============================] - 1s 246ms/step - loss: 1.3386 - accuracy: 0.3235 - val_loss: 1.3315 - val_accuracy: 0.3235\n",
            "Epoch 23/50\n",
            "3/3 [==============================] - 1s 259ms/step - loss: 1.3462 - accuracy: 0.3235 - val_loss: 1.3326 - val_accuracy: 0.3235\n",
            "Epoch 24/50\n",
            "3/3 [==============================] - 1s 250ms/step - loss: 1.3497 - accuracy: 0.3235 - val_loss: 1.3300 - val_accuracy: 0.3235\n",
            "Epoch 25/50\n",
            "3/3 [==============================] - 1s 241ms/step - loss: 1.3377 - accuracy: 0.3824 - val_loss: 1.3265 - val_accuracy: 0.3824\n",
            "Epoch 26/50\n",
            "3/3 [==============================] - 1s 248ms/step - loss: 1.3418 - accuracy: 0.3824 - val_loss: 1.3272 - val_accuracy: 0.3235\n",
            "Epoch 27/50\n",
            "3/3 [==============================] - 1s 247ms/step - loss: 1.3284 - accuracy: 0.3529 - val_loss: 1.3335 - val_accuracy: 0.3235\n",
            "Epoch 28/50\n",
            "3/3 [==============================] - 1s 261ms/step - loss: 1.3419 - accuracy: 0.2941 - val_loss: 1.3292 - val_accuracy: 0.3235\n",
            "Epoch 29/50\n",
            "3/3 [==============================] - 1s 247ms/step - loss: 1.3313 - accuracy: 0.3824 - val_loss: 1.3237 - val_accuracy: 0.3235\n",
            "Epoch 30/50\n",
            "3/3 [==============================] - 1s 250ms/step - loss: 1.3442 - accuracy: 0.3529 - val_loss: 1.3244 - val_accuracy: 0.3235\n",
            "Epoch 31/50\n",
            "3/3 [==============================] - 1s 263ms/step - loss: 1.3317 - accuracy: 0.3235 - val_loss: 1.3268 - val_accuracy: 0.3235\n",
            "Epoch 32/50\n",
            "3/3 [==============================] - 1s 263ms/step - loss: 1.3322 - accuracy: 0.3235 - val_loss: 1.3165 - val_accuracy: 0.3235\n",
            "Epoch 33/50\n",
            "3/3 [==============================] - 1s 248ms/step - loss: 1.3235 - accuracy: 0.4412 - val_loss: 1.3175 - val_accuracy: 0.6471\n",
            "Epoch 34/50\n",
            "3/3 [==============================] - 1s 257ms/step - loss: 1.3197 - accuracy: 0.5294 - val_loss: 1.3104 - val_accuracy: 0.5882\n",
            "Epoch 35/50\n",
            "3/3 [==============================] - 1s 252ms/step - loss: 1.3046 - accuracy: 0.3824 - val_loss: 1.3031 - val_accuracy: 0.3824\n",
            "Epoch 36/50\n",
            "3/3 [==============================] - 1s 254ms/step - loss: 1.3212 - accuracy: 0.4706 - val_loss: 1.2891 - val_accuracy: 0.4412\n",
            "Epoch 37/50\n",
            "3/3 [==============================] - 1s 262ms/step - loss: 1.2988 - accuracy: 0.4706 - val_loss: 1.2810 - val_accuracy: 0.3824\n",
            "Epoch 38/50\n",
            "3/3 [==============================] - 1s 256ms/step - loss: 1.3066 - accuracy: 0.4412 - val_loss: 1.2804 - val_accuracy: 0.3529\n",
            "Epoch 39/50\n",
            "3/3 [==============================] - 1s 270ms/step - loss: 1.3036 - accuracy: 0.3824 - val_loss: 1.2680 - val_accuracy: 0.3529\n",
            "Epoch 40/50\n",
            "3/3 [==============================] - 1s 264ms/step - loss: 1.2880 - accuracy: 0.3824 - val_loss: 1.2630 - val_accuracy: 0.4412\n",
            "Epoch 41/50\n",
            "3/3 [==============================] - 1s 257ms/step - loss: 1.2630 - accuracy: 0.5000 - val_loss: 1.2641 - val_accuracy: 0.7059\n",
            "Epoch 42/50\n",
            "3/3 [==============================] - 1s 246ms/step - loss: 1.2883 - accuracy: 0.4412 - val_loss: 1.2587 - val_accuracy: 0.7353\n",
            "Epoch 43/50\n",
            "3/3 [==============================] - 1s 255ms/step - loss: 1.2540 - accuracy: 0.5588 - val_loss: 1.2388 - val_accuracy: 0.7059\n",
            "Epoch 44/50\n",
            "3/3 [==============================] - 1s 335ms/step - loss: 1.2484 - accuracy: 0.4706 - val_loss: 1.2379 - val_accuracy: 0.3824\n",
            "Epoch 45/50\n",
            "3/3 [==============================] - 1s 312ms/step - loss: 1.2218 - accuracy: 0.3824 - val_loss: 1.2195 - val_accuracy: 0.7647\n",
            "Epoch 46/50\n",
            "3/3 [==============================] - 1s 243ms/step - loss: 1.2754 - accuracy: 0.3824 - val_loss: 1.2167 - val_accuracy: 0.5294\n",
            "Epoch 47/50\n",
            "3/3 [==============================] - 1s 263ms/step - loss: 1.2438 - accuracy: 0.5588 - val_loss: 1.1935 - val_accuracy: 0.7647\n",
            "Epoch 48/50\n",
            "3/3 [==============================] - 1s 246ms/step - loss: 1.1930 - accuracy: 0.7059 - val_loss: 1.1526 - val_accuracy: 0.5882\n",
            "Epoch 49/50\n",
            "3/3 [==============================] - 1s 261ms/step - loss: 1.2126 - accuracy: 0.5882 - val_loss: 1.1633 - val_accuracy: 0.5882\n",
            "Epoch 50/50\n",
            "3/3 [==============================] - 1s 254ms/step - loss: 1.1489 - accuracy: 0.5882 - val_loss: 1.1323 - val_accuracy: 0.7647\n"
          ]
        }
      ]
    },
    {
      "cell_type": "code",
      "source": [
        "model.save('/content/drive/MyDrive/Palm_Reading/PalmReading.h5')"
      ],
      "metadata": {
        "id": "jnUeyGjaEuph"
      },
      "execution_count": 21,
      "outputs": []
    },
    {
      "cell_type": "code",
      "source": [
        "palmreading_model = load_model('/content/drive/MyDrive/Palm_Reading/PalmReading.h5')"
      ],
      "metadata": {
        "id": "K9PWqv8DFVOz"
      },
      "execution_count": 22,
      "outputs": []
    },
    {
      "cell_type": "code",
      "source": [
        "score=palmreading_model.evaluate(validation_dataset,verbose=1)\n",
        "print('Test loss = ',score[0])\n",
        "print('Test accuracy = ',score[1])"
      ],
      "metadata": {
        "colab": {
          "base_uri": "https://localhost:8080/"
        },
        "id": "b0w25k9RFa7-",
        "outputId": "3000e1c7-7109-4f83-9c49-4807294338a2"
      },
      "execution_count": 23,
      "outputs": [
        {
          "output_type": "stream",
          "name": "stdout",
          "text": [
            "3/3 [==============================] - 1s 106ms/step - loss: 1.1323 - accuracy: 0.7647\n",
            "Test loss =  1.132280707359314\n",
            "Test accuracy =  0.7647058963775635\n"
          ]
        }
      ]
    },
    {
      "cell_type": "code",
      "source": [
        "plt.plot(history.history['accuracy'])\n",
        "plt.plot(history.history['val_accuracy'])\n",
        "plt.ylabel('accuracy')\n",
        "plt.xlabel('epoch')\n",
        "plt.legend(['Train','Validation'],loc='upper left')\n",
        "plt.show()"
      ],
      "metadata": {
        "colab": {
          "base_uri": "https://localhost:8080/",
          "height": 279
        },
        "id": "RkYZiFEKFeGf",
        "outputId": "dc603e86-804f-44a0-c8a6-64f2e0b3252d"
      },
      "execution_count": 24,
      "outputs": [
        {
          "output_type": "display_data",
          "data": {
            "text/plain": [
              "<Figure size 432x288 with 1 Axes>"
            ],
            "image/png": "[encoded data removed]"
          },
          "metadata": {
            "needs_background": "light"
          }
        }
      ]
    },
    {
      "cell_type": "code",
      "source": [
        "img = load_img('/content/drive/MyDrive/Palm_Reading/Pred/3.jpg',target_size=(150,150))\n",
        "plt.imshow(img)\n",
        "img = img_to_array(img)\n",
        "img = img.reshape(1,150,150,3)\n",
        "img = img.astype('float32')\n",
        "img = img/255\n",
        "Label = ['dinhmenh', 'sinhdao', 'tamdao', 'tridao']\n",
        "print('Object: ',Label[int(np.argmax(palmreading_model.predict(img),axis=-1))])"
      ],
      "metadata": {
        "colab": {
          "base_uri": "https://localhost:8080/",
          "height": 286
        },
        "id": "VSWxwCEVFft_",
        "outputId": "df137818-3361-4a36-8dc8-56280b46a029"
      },
      "execution_count": 27,
      "outputs": [
        {
          "output_type": "stream",
          "name": "stdout",
          "text": [
            "Object:  sinhdao\n"
          ]
        },
        {
          "output_type": "display_data",
          "data": {
            "text/plain": [
              "<Figure size 432x288 with 1 Axes>"
            ],
            "image/png": "[encoded data removed]"
          },
          "metadata": {
            "needs_background": "light"
          }
        }
      ]
    },
    {
      "cell_type": "code",
      "source": [
        ""
      ],
      "metadata": {
        "id": "3JoHiQ6_F_78"
      },
      "execution_count": null,
      "outputs": []
    }
  ]
}