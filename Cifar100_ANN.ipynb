{
  "nbformat": 4,
  "nbformat_minor": 0,
  "metadata": {
    "colab": {
      "name": "Cifar100_ANN.ipynb",
      "provenance": []
    },
    "kernelspec": {
      "name": "python3",
      "display_name": "Python 3"
    },
    "language_info": {
      "name": "python"
    },
    "accelerator": "GPU"
  },
  "cells": [
    {
      "cell_type": "code",
      "execution_count": null,
      "metadata": {
        "id": "EYe6pY-gXivs"
      },
      "outputs": [],
      "source": [
        "#Khai báo các thư viện quan trọng\n",
        "import numpy as np\n",
        "import pandas as pd\n",
        "import cv2\n",
        "from keras.models import Sequential\n",
        "from tensorflow.keras import datasets, layers,models\n",
        "import matplotlib.pyplot as plt\n",
        "from tensorflow import keras\n",
        "from keras.layers import Dense, Activation,Dropout,Flatten\n",
        "from keras.datasets import cifar100\n",
        "from tensorflow.keras.optimizers import Adam\n",
        "from sklearn.preprocessing import StandardScaler\n",
        "from keras.utils import np_utils\n",
        "import tensorflow as tf "
      ]
    },
    {
      "cell_type": "code",
      "source": [
        "(x_train, y_train), (x_test, y_test) = cifar100.load_data()"
      ],
      "metadata": {
        "id": "kyIkWcA2sfAL"
      },
      "execution_count": null,
      "outputs": []
    },
    {
      "cell_type": "code",
      "source": [
        "\n",
        "print('Size of train data {}'.format(x_train.shape))\n",
        "print('Size of test data {}'.format(x_test.shape))"
      ],
      "metadata": {
        "colab": {
          "base_uri": "https://localhost:8080/"
        },
        "id": "qgB7LFrdslT0",
        "outputId": "1b905c72-8606-4ad5-ad08-e4a700c849f4"
      },
      "execution_count": null,
      "outputs": [
        {
          "output_type": "stream",
          "name": "stdout",
          "text": [
            "Size of train data (50000, 32, 32, 3)\n",
            "Size of test data (10000, 32, 32, 3)\n"
          ]
        }
      ]
    },
    {
      "cell_type": "code",
      "source": [
        "x_pre = x_test\n",
        "y_ktr = y_test\n",
        "x_train = x_train.reshape(x_train.shape[0], -1)\n",
        "x_test = x_test.reshape(x_test.shape[0], -1)\n",
        "x_train = x_train.astype('float32')\n",
        "x_test = x_test.astype('float32')\n",
        "# ĐƯA GIÁ TRỊ VỀ TỪ 0-1\n",
        "x_train /= 255\n",
        "x_test /= 255\n",
        "y_train = np_utils.to_categorical(y_train, 100)\n",
        "y_test = np_utils.to_categorical(y_test, 100)"
      ],
      "metadata": {
        "id": "BKjGgxgLtEdr"
      },
      "execution_count": null,
      "outputs": []
    },
    {
      "cell_type": "code",
      "source": [
        "model = Sequential()\n",
        "model.add(Dense(512, activation='relu',\n",
        "input_shape = (x_train.shape[1],)))\n",
        "model.add(Dropout(0.2))\n",
        "model.add(Dense(256,activation='relu'))\n",
        "model.add(Dropout(0.1))\n",
        "model.add(Dense(100,activation='softmax'))\n",
        "model.summary()\n",
        "model.compile(loss='mean_squared_error',optimizer =Adam(), metrics=['acc'])\n",
        "history = model.fit(x_train, y_train, batch_size =256, epochs = 100, validation_split = 0.2)"
      ],
      "metadata": {
        "colab": {
          "base_uri": "https://localhost:8080/"
        },
        "id": "8W-9O1c_t2Mk",
        "outputId": "5fb91273-1798-4aec-fb0a-f4c9f8dde300"
      },
      "execution_count": null,
      "outputs": [
        {
          "output_type": "stream",
          "name": "stdout",
          "text": [
            "Model: \"sequential_7\"\n",
            "_________________________________________________________________\n",
            " Layer (type)                Output Shape              Param #   \n",
            "=================================================================\n",
            " dense_25 (Dense)            (None, 512)               1573376   \n",
            "                                                                 \n",
            " dropout_18 (Dropout)        (None, 512)               0         \n",
            "                                                                 \n",
            " dense_26 (Dense)            (None, 256)               131328    \n",
            "                                                                 \n",
            " dropout_19 (Dropout)        (None, 256)               0         \n",
            "                                                                 \n",
            " dense_27 (Dense)            (None, 100)               25700     \n",
            "                                                                 \n",
            "=================================================================\n",
            "Total params: 1,730,404\n",
            "Trainable params: 1,730,404\n",
            "Non-trainable params: 0\n",
            "_________________________________________________________________\n",
            "Epoch 1/100\n",
            "157/157 [==============================] - 9s 54ms/step - loss: 0.0098 - acc: 0.0389 - val_loss: 0.0098 - val_acc: 0.0590\n",
            "Epoch 2/100\n",
            "157/157 [==============================] - 8s 53ms/step - loss: 0.0097 - acc: 0.0695 - val_loss: 0.0096 - val_acc: 0.0885\n",
            "Epoch 3/100\n",
            "157/157 [==============================] - 8s 52ms/step - loss: 0.0096 - acc: 0.0878 - val_loss: 0.0096 - val_acc: 0.1036\n",
            "Epoch 4/100\n",
            "157/157 [==============================] - 8s 51ms/step - loss: 0.0096 - acc: 0.0992 - val_loss: 0.0095 - val_acc: 0.1248\n",
            "Epoch 5/100\n",
            "157/157 [==============================] - 8s 51ms/step - loss: 0.0095 - acc: 0.1091 - val_loss: 0.0095 - val_acc: 0.1178\n",
            "Epoch 6/100\n",
            "157/157 [==============================] - 8s 51ms/step - loss: 0.0095 - acc: 0.1186 - val_loss: 0.0094 - val_acc: 0.1317\n",
            "Epoch 7/100\n",
            "157/157 [==============================] - 8s 52ms/step - loss: 0.0095 - acc: 0.1213 - val_loss: 0.0094 - val_acc: 0.1395\n",
            "Epoch 8/100\n",
            "157/157 [==============================] - 8s 51ms/step - loss: 0.0094 - acc: 0.1261 - val_loss: 0.0093 - val_acc: 0.1529\n",
            "Epoch 9/100\n",
            "157/157 [==============================] - 8s 50ms/step - loss: 0.0094 - acc: 0.1365 - val_loss: 0.0093 - val_acc: 0.1604\n",
            "Epoch 10/100\n",
            "157/157 [==============================] - 8s 51ms/step - loss: 0.0094 - acc: 0.1410 - val_loss: 0.0093 - val_acc: 0.1523\n",
            "Epoch 11/100\n",
            "157/157 [==============================] - 8s 51ms/step - loss: 0.0093 - acc: 0.1467 - val_loss: 0.0092 - val_acc: 0.1627\n",
            "Epoch 12/100\n",
            "157/157 [==============================] - 8s 51ms/step - loss: 0.0093 - acc: 0.1530 - val_loss: 0.0092 - val_acc: 0.1700\n",
            "Epoch 13/100\n",
            "157/157 [==============================] - 8s 51ms/step - loss: 0.0093 - acc: 0.1574 - val_loss: 0.0092 - val_acc: 0.1698\n",
            "Epoch 14/100\n",
            "157/157 [==============================] - 8s 52ms/step - loss: 0.0092 - acc: 0.1584 - val_loss: 0.0092 - val_acc: 0.1738\n",
            "Epoch 15/100\n",
            "157/157 [==============================] - 8s 52ms/step - loss: 0.0092 - acc: 0.1617 - val_loss: 0.0092 - val_acc: 0.1738\n",
            "Epoch 16/100\n",
            "157/157 [==============================] - 8s 52ms/step - loss: 0.0092 - acc: 0.1658 - val_loss: 0.0092 - val_acc: 0.1790\n",
            "Epoch 17/100\n",
            "157/157 [==============================] - 8s 52ms/step - loss: 0.0092 - acc: 0.1703 - val_loss: 0.0092 - val_acc: 0.1809\n",
            "Epoch 18/100\n",
            "157/157 [==============================] - 8s 52ms/step - loss: 0.0092 - acc: 0.1761 - val_loss: 0.0091 - val_acc: 0.1795\n",
            "Epoch 19/100\n",
            "157/157 [==============================] - 8s 51ms/step - loss: 0.0091 - acc: 0.1749 - val_loss: 0.0091 - val_acc: 0.1826\n",
            "Epoch 20/100\n",
            "157/157 [==============================] - 8s 51ms/step - loss: 0.0091 - acc: 0.1753 - val_loss: 0.0091 - val_acc: 0.1849\n",
            "Epoch 21/100\n",
            "157/157 [==============================] - 8s 52ms/step - loss: 0.0091 - acc: 0.1821 - val_loss: 0.0091 - val_acc: 0.1900\n",
            "Epoch 22/100\n",
            "157/157 [==============================] - 8s 51ms/step - loss: 0.0091 - acc: 0.1846 - val_loss: 0.0091 - val_acc: 0.1869\n",
            "Epoch 23/100\n",
            "157/157 [==============================] - 8s 52ms/step - loss: 0.0091 - acc: 0.1862 - val_loss: 0.0091 - val_acc: 0.1940\n",
            "Epoch 24/100\n",
            "157/157 [==============================] - 8s 51ms/step - loss: 0.0090 - acc: 0.1898 - val_loss: 0.0091 - val_acc: 0.1816\n",
            "Epoch 25/100\n",
            "157/157 [==============================] - 8s 53ms/step - loss: 0.0090 - acc: 0.1937 - val_loss: 0.0091 - val_acc: 0.1900\n",
            "Epoch 26/100\n",
            "157/157 [==============================] - 8s 51ms/step - loss: 0.0090 - acc: 0.1938 - val_loss: 0.0091 - val_acc: 0.1859\n",
            "Epoch 27/100\n",
            "157/157 [==============================] - 8s 51ms/step - loss: 0.0090 - acc: 0.1943 - val_loss: 0.0090 - val_acc: 0.2009\n",
            "Epoch 28/100\n",
            "157/157 [==============================] - 8s 51ms/step - loss: 0.0090 - acc: 0.1975 - val_loss: 0.0091 - val_acc: 0.1970\n",
            "Epoch 29/100\n",
            "157/157 [==============================] - 8s 51ms/step - loss: 0.0090 - acc: 0.1988 - val_loss: 0.0090 - val_acc: 0.2004\n",
            "Epoch 30/100\n",
            "157/157 [==============================] - 8s 50ms/step - loss: 0.0090 - acc: 0.2016 - val_loss: 0.0090 - val_acc: 0.2047\n",
            "Epoch 31/100\n",
            "157/157 [==============================] - 8s 50ms/step - loss: 0.0089 - acc: 0.2059 - val_loss: 0.0090 - val_acc: 0.2009\n",
            "Epoch 32/100\n",
            "157/157 [==============================] - 8s 51ms/step - loss: 0.0089 - acc: 0.2053 - val_loss: 0.0090 - val_acc: 0.2018\n",
            "Epoch 33/100\n",
            "157/157 [==============================] - 8s 51ms/step - loss: 0.0089 - acc: 0.2061 - val_loss: 0.0090 - val_acc: 0.2005\n",
            "Epoch 34/100\n",
            "157/157 [==============================] - 8s 51ms/step - loss: 0.0089 - acc: 0.2067 - val_loss: 0.0090 - val_acc: 0.1952\n",
            "Epoch 35/100\n",
            "157/157 [==============================] - 8s 51ms/step - loss: 0.0089 - acc: 0.2099 - val_loss: 0.0090 - val_acc: 0.1964\n",
            "Epoch 36/100\n",
            "157/157 [==============================] - 8s 51ms/step - loss: 0.0089 - acc: 0.2133 - val_loss: 0.0090 - val_acc: 0.1993\n",
            "Epoch 37/100\n",
            "157/157 [==============================] - 8s 52ms/step - loss: 0.0089 - acc: 0.2131 - val_loss: 0.0089 - val_acc: 0.2094\n",
            "Epoch 38/100\n",
            "157/157 [==============================] - 8s 52ms/step - loss: 0.0089 - acc: 0.2146 - val_loss: 0.0090 - val_acc: 0.2065\n",
            "Epoch 39/100\n",
            "157/157 [==============================] - 8s 51ms/step - loss: 0.0088 - acc: 0.2159 - val_loss: 0.0090 - val_acc: 0.2039\n",
            "Epoch 40/100\n",
            "157/157 [==============================] - 8s 51ms/step - loss: 0.0088 - acc: 0.2207 - val_loss: 0.0090 - val_acc: 0.2014\n",
            "Epoch 41/100\n",
            "157/157 [==============================] - 8s 52ms/step - loss: 0.0088 - acc: 0.2206 - val_loss: 0.0090 - val_acc: 0.2055\n",
            "Epoch 42/100\n",
            "157/157 [==============================] - 8s 51ms/step - loss: 0.0088 - acc: 0.2193 - val_loss: 0.0090 - val_acc: 0.2032\n",
            "Epoch 43/100\n",
            "157/157 [==============================] - 8s 51ms/step - loss: 0.0088 - acc: 0.2222 - val_loss: 0.0090 - val_acc: 0.2019\n",
            "Epoch 44/100\n",
            "157/157 [==============================] - 8s 51ms/step - loss: 0.0088 - acc: 0.2227 - val_loss: 0.0090 - val_acc: 0.2043\n",
            "Epoch 45/100\n",
            "157/157 [==============================] - 8s 51ms/step - loss: 0.0088 - acc: 0.2246 - val_loss: 0.0090 - val_acc: 0.2018\n",
            "Epoch 46/100\n",
            "157/157 [==============================] - 8s 50ms/step - loss: 0.0088 - acc: 0.2259 - val_loss: 0.0090 - val_acc: 0.2028\n",
            "Epoch 47/100\n",
            "157/157 [==============================] - 8s 52ms/step - loss: 0.0087 - acc: 0.2277 - val_loss: 0.0090 - val_acc: 0.2076\n",
            "Epoch 48/100\n",
            "157/157 [==============================] - 8s 52ms/step - loss: 0.0087 - acc: 0.2339 - val_loss: 0.0090 - val_acc: 0.2047\n",
            "Epoch 49/100\n",
            "157/157 [==============================] - 8s 52ms/step - loss: 0.0087 - acc: 0.2286 - val_loss: 0.0090 - val_acc: 0.2044\n",
            "Epoch 50/100\n",
            "157/157 [==============================] - 8s 52ms/step - loss: 0.0087 - acc: 0.2312 - val_loss: 0.0090 - val_acc: 0.2028\n",
            "Epoch 51/100\n",
            "157/157 [==============================] - 8s 52ms/step - loss: 0.0087 - acc: 0.2306 - val_loss: 0.0089 - val_acc: 0.2096\n",
            "Epoch 52/100\n",
            "157/157 [==============================] - 8s 52ms/step - loss: 0.0087 - acc: 0.2335 - val_loss: 0.0090 - val_acc: 0.2040\n",
            "Epoch 53/100\n",
            "157/157 [==============================] - 8s 51ms/step - loss: 0.0087 - acc: 0.2346 - val_loss: 0.0089 - val_acc: 0.2058\n",
            "Epoch 54/100\n",
            "157/157 [==============================] - 8s 51ms/step - loss: 0.0087 - acc: 0.2356 - val_loss: 0.0090 - val_acc: 0.2074\n",
            "Epoch 55/100\n",
            "157/157 [==============================] - 8s 52ms/step - loss: 0.0087 - acc: 0.2361 - val_loss: 0.0089 - val_acc: 0.2090\n",
            "Epoch 56/100\n",
            "157/157 [==============================] - 8s 51ms/step - loss: 0.0087 - acc: 0.2394 - val_loss: 0.0089 - val_acc: 0.2061\n",
            "Epoch 57/100\n",
            "157/157 [==============================] - 8s 51ms/step - loss: 0.0086 - acc: 0.2412 - val_loss: 0.0090 - val_acc: 0.2041\n",
            "Epoch 58/100\n",
            "157/157 [==============================] - 8s 52ms/step - loss: 0.0087 - acc: 0.2392 - val_loss: 0.0089 - val_acc: 0.2134\n",
            "Epoch 59/100\n",
            "157/157 [==============================] - 8s 52ms/step - loss: 0.0086 - acc: 0.2451 - val_loss: 0.0089 - val_acc: 0.2125\n",
            "Epoch 60/100\n",
            "157/157 [==============================] - 8s 51ms/step - loss: 0.0086 - acc: 0.2399 - val_loss: 0.0089 - val_acc: 0.2100\n",
            "Epoch 61/100\n",
            "157/157 [==============================] - 8s 52ms/step - loss: 0.0086 - acc: 0.2428 - val_loss: 0.0090 - val_acc: 0.2025\n",
            "Epoch 62/100\n",
            "157/157 [==============================] - 8s 52ms/step - loss: 0.0086 - acc: 0.2454 - val_loss: 0.0089 - val_acc: 0.2126\n",
            "Epoch 63/100\n",
            "157/157 [==============================] - 9s 55ms/step - loss: 0.0086 - acc: 0.2447 - val_loss: 0.0090 - val_acc: 0.2127\n",
            "Epoch 64/100\n",
            "157/157 [==============================] - 8s 51ms/step - loss: 0.0086 - acc: 0.2506 - val_loss: 0.0089 - val_acc: 0.2128\n",
            "Epoch 65/100\n",
            "157/157 [==============================] - 8s 51ms/step - loss: 0.0086 - acc: 0.2481 - val_loss: 0.0089 - val_acc: 0.2157\n",
            "Epoch 66/100\n",
            "157/157 [==============================] - 8s 52ms/step - loss: 0.0086 - acc: 0.2501 - val_loss: 0.0089 - val_acc: 0.2084\n",
            "Epoch 67/100\n",
            "157/157 [==============================] - 8s 53ms/step - loss: 0.0086 - acc: 0.2470 - val_loss: 0.0089 - val_acc: 0.2118\n",
            "Epoch 68/100\n",
            "157/157 [==============================] - 8s 52ms/step - loss: 0.0086 - acc: 0.2454 - val_loss: 0.0090 - val_acc: 0.2042\n",
            "Epoch 69/100\n",
            "157/157 [==============================] - 8s 51ms/step - loss: 0.0086 - acc: 0.2523 - val_loss: 0.0090 - val_acc: 0.2074\n",
            "Epoch 70/100\n",
            "157/157 [==============================] - 8s 53ms/step - loss: 0.0086 - acc: 0.2505 - val_loss: 0.0089 - val_acc: 0.2134\n",
            "Epoch 71/100\n",
            "157/157 [==============================] - 8s 52ms/step - loss: 0.0085 - acc: 0.2537 - val_loss: 0.0090 - val_acc: 0.2042\n",
            "Epoch 72/100\n",
            "157/157 [==============================] - 8s 51ms/step - loss: 0.0086 - acc: 0.2520 - val_loss: 0.0090 - val_acc: 0.2090\n",
            "Epoch 73/100\n",
            "157/157 [==============================] - 8s 52ms/step - loss: 0.0085 - acc: 0.2534 - val_loss: 0.0089 - val_acc: 0.2082\n",
            "Epoch 74/100\n",
            "157/157 [==============================] - 8s 53ms/step - loss: 0.0085 - acc: 0.2553 - val_loss: 0.0090 - val_acc: 0.2088\n",
            "Epoch 75/100\n",
            "157/157 [==============================] - 8s 53ms/step - loss: 0.0085 - acc: 0.2600 - val_loss: 0.0089 - val_acc: 0.2115\n",
            "Epoch 76/100\n",
            "157/157 [==============================] - 8s 52ms/step - loss: 0.0085 - acc: 0.2566 - val_loss: 0.0090 - val_acc: 0.2065\n",
            "Epoch 77/100\n",
            "157/157 [==============================] - 8s 53ms/step - loss: 0.0085 - acc: 0.2592 - val_loss: 0.0090 - val_acc: 0.2072\n",
            "Epoch 78/100\n",
            "157/157 [==============================] - 8s 54ms/step - loss: 0.0085 - acc: 0.2582 - val_loss: 0.0089 - val_acc: 0.2125\n",
            "Epoch 79/100\n",
            "157/157 [==============================] - 8s 53ms/step - loss: 0.0085 - acc: 0.2570 - val_loss: 0.0089 - val_acc: 0.2137\n",
            "Epoch 80/100\n",
            "157/157 [==============================] - 8s 52ms/step - loss: 0.0085 - acc: 0.2624 - val_loss: 0.0090 - val_acc: 0.2097\n",
            "Epoch 81/100\n",
            "157/157 [==============================] - 8s 51ms/step - loss: 0.0085 - acc: 0.2612 - val_loss: 0.0090 - val_acc: 0.2115\n",
            "Epoch 82/100\n",
            "157/157 [==============================] - 8s 51ms/step - loss: 0.0085 - acc: 0.2650 - val_loss: 0.0090 - val_acc: 0.2017\n",
            "Epoch 83/100\n",
            "157/157 [==============================] - 8s 52ms/step - loss: 0.0085 - acc: 0.2625 - val_loss: 0.0089 - val_acc: 0.2133\n",
            "Epoch 84/100\n",
            "157/157 [==============================] - 8s 52ms/step - loss: 0.0084 - acc: 0.2645 - val_loss: 0.0089 - val_acc: 0.2145\n",
            "Epoch 85/100\n",
            "157/157 [==============================] - 8s 52ms/step - loss: 0.0085 - acc: 0.2625 - val_loss: 0.0089 - val_acc: 0.2096\n",
            "Epoch 86/100\n",
            "157/157 [==============================] - 8s 52ms/step - loss: 0.0084 - acc: 0.2667 - val_loss: 0.0090 - val_acc: 0.2047\n",
            "Epoch 87/100\n",
            "157/157 [==============================] - 8s 51ms/step - loss: 0.0084 - acc: 0.2686 - val_loss: 0.0090 - val_acc: 0.2086\n",
            "Epoch 88/100\n",
            "157/157 [==============================] - 8s 51ms/step - loss: 0.0084 - acc: 0.2670 - val_loss: 0.0090 - val_acc: 0.2071\n",
            "Epoch 89/100\n",
            "157/157 [==============================] - 8s 51ms/step - loss: 0.0084 - acc: 0.2659 - val_loss: 0.0090 - val_acc: 0.2093\n",
            "Epoch 90/100\n",
            "157/157 [==============================] - 8s 51ms/step - loss: 0.0084 - acc: 0.2679 - val_loss: 0.0089 - val_acc: 0.2116\n",
            "Epoch 91/100\n",
            "157/157 [==============================] - 8s 52ms/step - loss: 0.0084 - acc: 0.2704 - val_loss: 0.0090 - val_acc: 0.2085\n",
            "Epoch 92/100\n",
            "157/157 [==============================] - 8s 51ms/step - loss: 0.0084 - acc: 0.2692 - val_loss: 0.0089 - val_acc: 0.2177\n",
            "Epoch 93/100\n",
            "157/157 [==============================] - 8s 52ms/step - loss: 0.0084 - acc: 0.2719 - val_loss: 0.0090 - val_acc: 0.2041\n",
            "Epoch 94/100\n",
            "157/157 [==============================] - 8s 54ms/step - loss: 0.0084 - acc: 0.2727 - val_loss: 0.0090 - val_acc: 0.2099\n",
            "Epoch 95/100\n",
            "157/157 [==============================] - 8s 51ms/step - loss: 0.0084 - acc: 0.2707 - val_loss: 0.0089 - val_acc: 0.2111\n",
            "Epoch 96/100\n",
            "157/157 [==============================] - 8s 52ms/step - loss: 0.0084 - acc: 0.2731 - val_loss: 0.0089 - val_acc: 0.2108\n",
            "Epoch 97/100\n",
            "157/157 [==============================] - 8s 52ms/step - loss: 0.0083 - acc: 0.2748 - val_loss: 0.0089 - val_acc: 0.2188\n",
            "Epoch 98/100\n",
            "157/157 [==============================] - 8s 52ms/step - loss: 0.0084 - acc: 0.2745 - val_loss: 0.0089 - val_acc: 0.2134\n",
            "Epoch 99/100\n",
            "157/157 [==============================] - 10s 66ms/step - loss: 0.0083 - acc: 0.2778 - val_loss: 0.0089 - val_acc: 0.2091\n",
            "Epoch 100/100\n",
            "157/157 [==============================] - 8s 52ms/step - loss: 0.0083 - acc: 0.2749 - val_loss: 0.0090 - val_acc: 0.2113\n"
          ]
        }
      ]
    },
    {
      "cell_type": "code",
      "source": [
        "plt.subplot(211)\n",
        "plt.title('val_loss')\n",
        "plt.plot(history.history['val_loss'], color='blue',\n",
        "label='train')"
      ],
      "metadata": {
        "colab": {
          "base_uri": "https://localhost:8080/",
          "height": 180
        },
        "id": "g9G6UGmlPnM5",
        "outputId": "0dc3ee94-acdd-4a94-b30f-014818a7be30"
      },
      "execution_count": null,
      "outputs": [
        {
          "output_type": "execute_result",
          "data": {
            "text/plain": [
              "[<matplotlib.lines.Line2D at 0x7f309fe5d210>]"
            ]
          },
          "metadata": {},
          "execution_count": 27
        },
        {
          "output_type": "display_data",
          "data": {
            "text/plain": [
              "<Figure size 432x288 with 1 Axes>"
            ],
            "image/png": "[encoded data removed]"
          },
          "metadata": {
            "needs_background": "light"
          }
        }
      ]
    },
    {
      "cell_type": "code",
      "source": [
        "model.save('cifar100_ann.h5')"
      ],
      "metadata": {
        "id": "cG_ZADftGTI_"
      },
      "execution_count": null,
      "outputs": []
    },
    {
      "cell_type": "code",
      "source": [
        "#VE DO THI VAL-ACC\n",
        "plt.subplot(212)\n",
        "plt.title('Val Accuracy')\n",
        "plt.plot(history.history['val_acc'], color='blue',\n",
        "label='train')\n",
        "test =18\n",
        "Label = ['apple', 'aquarium_fish', 'baby', 'bear','beaver', 'bed', 'bee', 'beetle', 'bicycle', 'bottle','bowl', 'boy', \n",
        "'bridge', 'bus', 'butterfly', 'camel','can', 'castle', 'caterpillar', 'cattle', 'chair','chimpanzee', 'clock', \n",
        "'cloud', 'cockroach', 'couch','crab', 'crocodile', 'cup', 'dinosaur', 'dolphin','elephant', 'flatfish', 'forest', 'fox', 'girl', 'hamster',\n",
        "'house', 'kangaroo', 'keyboard', 'lamp','lawn_mower', 'leopard', 'lion', 'lizard', 'lobster',\n",
        "'man', 'maple_tree', 'motorcycle', 'mountain','mouse', 'mushroom', 'oak_tree', 'orange', 'orchid',\n",
        "'otter', 'palm_tree', 'pear', 'pickup_truck','pine_tree', 'plain', 'plate', 'poppy', 'porcupine',\n",
        "'possum', 'rabbit', 'raccoon', 'ray', 'road', 'rocket','rose', 'sea', 'seal', 'shark', 'shrew', 'skunk',\n",
        "'skyscraper', 'snail', 'snake', 'spider', 'squirrel','streetcar', 'sunflower', 'sweet_pepper', 'table',\n",
        "'tank', 'telephone', 'television', 'tiger', 'tractor','train', 'trout', 'tulip', 'turtle', 'wardrobe', 'whale',\n",
        "'willow_tree', 'wolf', 'woman', 'worm']\n",
        "plt.title(\" Object: \" +\n",
        "str(Label[np.argmax(model.predict(x_pre[test].reshape(-1,3072)))]))\n",
        "plt.imshow(x_pre[test],cmap=plt.get_cmap('gray'))"
      ],
      "metadata": {
        "colab": {
          "base_uri": "https://localhost:8080/",
          "height": 180
        },
        "id": "u5sOcWext4wF",
        "outputId": "6c92081c-ba1d-4bbe-84cc-40a8ef9c2188"
      },
      "execution_count": null,
      "outputs": [
        {
          "output_type": "execute_result",
          "data": {
            "text/plain": [
              "<matplotlib.image.AxesImage at 0x7f309fe5de50>"
            ]
          },
          "metadata": {},
          "execution_count": 25
        },
        {
          "output_type": "display_data",
          "data": {
            "text/plain": [
              "<Figure size 432x288 with 1 Axes>"
            ],
            "image/png": "[encoded data removed]"
          },
          "metadata": {
            "needs_background": "light"
          }
        }
      ]
    },
    {
      "cell_type": "code",
      "source": [
        "from google.colab import drive\n",
        "drive.mount('/content/drive')\n",
        "!wget -nc https://raw.githubusercontent.com/brpy/colab-pdf/master/colab_pdf.py\n",
        "from colab_pdf import colab_pdf\n",
        "colab_pdf('Cifar100_ANN.ipynb')"
      ],
      "metadata": {
        "colab": {
          "base_uri": "https://localhost:8080/",
          "height": 365
        },
        "id": "rUWXETcyO8Lp",
        "outputId": "fd5c6084-6e91-427b-ad76-02085198a699"
      },
      "execution_count": null,
      "outputs": [
        {
          "output_type": "stream",
          "name": "stdout",
          "text": [
            "Drive already mounted at /content/drive; to attempt to forcibly remount, call drive.mount(\"/content/drive\", force_remount=True).\n",
            "File ‘colab_pdf.py’ already there; not retrieving.\n",
            "\n",
            "\n",
            "WARNING: apt does not have a stable CLI interface. Use with caution in scripts.\n",
            "\n",
            "\n",
            "WARNING: apt does not have a stable CLI interface. Use with caution in scripts.\n",
            "\n",
            "[NbConvertApp] Converting notebook /content/drive/MyDrive/Colab Notebooks/Cifar100_ANN.ipynb to pdf\n",
            "[NbConvertApp] Support files will be in Cifar100_ANN_files/\n",
            "[NbConvertApp] Making directory ./Cifar100_ANN_files\n",
            "[NbConvertApp] Writing 54071 bytes to ./notebook.tex\n",
            "[NbConvertApp] Building PDF\n",
            "[NbConvertApp] Running xelatex 3 times: ['xelatex', './notebook.tex', '-quiet']\n",
            "[NbConvertApp] Running bibtex 1 time: ['bibtex', './notebook']\n",
            "[NbConvertApp] WARNING | bibtex had problems, most likely because there were no citations\n",
            "[NbConvertApp] PDF successfully created\n",
            "[NbConvertApp] Writing 49787 bytes to /content/drive/My Drive/Cifar100_ANN.pdf\n"
          ]
        },
        {
          "output_type": "display_data",
          "data": {
            "text/plain": [
              "<IPython.core.display.Javascript object>"
            ],
            "application/javascript": [
              "\n",
              "    async function download(id, filename, size) {\n",
              "      if (!google.colab.kernel.accessAllowed) {\n",
              "        return;\n",
              "      }\n",
              "      const div = document.createElement('div');\n",
              "      const label = document.createElement('label');\n",
              "      label.textContent = `Downloading \"${filename}\": `;\n",
              "      div.appendChild(label);\n",
              "      const progress = document.createElement('progress');\n",
              "      progress.max = size;\n",
              "      div.appendChild(progress);\n",
              "      document.body.appendChild(div);\n",
              "\n",
              "      const buffers = [];\n",
              "      let downloaded = 0;\n",
              "\n",
              "      const channel = await google.colab.kernel.comms.open(id);\n",
              "      // Send a message to notify the kernel that we're ready.\n",
              "      channel.send({})\n",
              "\n",
              "      for await (const message of channel.messages) {\n",
              "        // Send a message to notify the kernel that we're ready.\n",
              "        channel.send({})\n",
              "        if (message.buffers) {\n",
              "          for (const buffer of message.buffers) {\n",
              "            buffers.push(buffer);\n",
              "            downloaded += buffer.byteLength;\n",
              "            progress.value = downloaded;\n",
              "          }\n",
              "        }\n",
              "      }\n",
              "      const blob = new Blob(buffers, {type: 'application/binary'});\n",
              "      const a = document.createElement('a');\n",
              "      a.href = window.URL.createObjectURL(blob);\n",
              "      a.download = filename;\n",
              "      div.appendChild(a);\n",
              "      a.click();\n",
              "      div.remove();\n",
              "    }\n",
              "  "
            ]
          },
          "metadata": {}
        },
        {
          "output_type": "display_data",
          "data": {
            "text/plain": [
              "<IPython.core.display.Javascript object>"
            ],
            "application/javascript": [
              "download(\"download_92192330-4c12-4263-b696-a7cb384c2129\", \"Cifar100_ANN.pdf\", 49787)"
            ]
          },
          "metadata": {}
        },
        {
          "output_type": "execute_result",
          "data": {
            "text/plain": [
              "'File ready to be Downloaded and Saved to Drive'"
            ],
            "application/vnd.google.colaboratory.intrinsic+json": {
              "type": "string"
            }
          },
          "metadata": {},
          "execution_count": 28
        }
      ]
    },
    {
      "cell_type": "code",
      "source": [
        ""
      ],
      "metadata": {
        "id": "PVSf3eOhO-1K"
      },
      "execution_count": null,
      "outputs": []
    }
  ]
}